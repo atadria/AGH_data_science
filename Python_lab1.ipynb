{
 "cells": [
  {
   "cell_type": "markdown",
   "metadata": {},
   "source": [
    "# Python - lab 1"
   ]
  },
  {
   "cell_type": "markdown",
   "metadata": {},
   "source": [
    "## Zadanie 1: Współczynnik BMI\n",
    "Napisz program, który na podstawie danych o wzroście (podawanym w cm) i wadze (podawanej w kg) otrzymanych przez użytkownika wypisze jego wskaźnik BMI (Body Mass Index)."
   ]
  },
  {
   "cell_type": "code",
   "execution_count": 9,
   "metadata": {},
   "outputs": [
    {
     "name": "stdout",
     "output_type": "stream",
     "text": [
      "Podaj wagę w kg: 50\n",
      "Podaj wzrost w cm: 160\n",
      "BMI = 19.53\n"
     ]
    }
   ],
   "source": [
    "weight = int(input(\"Podaj wagę w kg: \"))\n",
    "height = int(input(\"Podaj wzrost w cm: \"))\n",
    "\n",
    "bmi = weight / (height/100)**2\n",
    "print(\"BMI = {:.2f}\".format(bmi))"
   ]
  },
  {
   "cell_type": "markdown",
   "metadata": {},
   "source": [
    "## Zadanie 2: Równanie kwadratowe\n",
    "Napisz program, który rozwiązuje równanie kwadratowe postaci:\n",
    "$$ a \\cdot x^2 + b \\cdot x + c = 0 $$\n",
    "Program powinien wczytać od użytkownika współczynniki a, b, c i podać wszystkie rzeczywiste rozwiązania równania (jeśli istnieją - w przeciwnym przypadku program powinien poinformować o braku rzeczywistych rozwiązań).\n",
    "Uwaga, należy pamiętać o obsłudze błędu w przypadku gdy użytkownik poda nieprawidłowe dane!"
   ]
  },
  {
   "cell_type": "code",
   "execution_count": 3,
   "metadata": {},
   "outputs": [
    {
     "name": "stdout",
     "output_type": "stream",
     "text": [
      "Podaj wartość a: 2\n",
      "Podaj wartość b: -3\n",
      "Podaj wartość c: 0\n",
      "2x^2 + -3x + 0 = 0\n",
      "Delta wynosi: 9\n",
      "x1 = 0.0 \t x2 = 1.5\n"
     ]
    }
   ],
   "source": [
    "import math\n",
    "\n",
    "labels = [\"a\", \"b\", \"c\"]\n",
    "values = [0] * 3\n",
    "for i in range(0,3):\n",
    "    while True:\n",
    "        try:\n",
    "            values[i] = int(input(\"Podaj wartość {}: \".format(labels[i])))\n",
    "            break\n",
    "        except ValueError:\n",
    "            print(\"Niepoprawne dane!\")\n",
    "            \n",
    "if values[0] == 0:\n",
    "    print(\"a = 0, nie jest to równanie kwadratowe\")\n",
    "else:\n",
    "    print(\"{0[0]}x^2 + {0[1]}x + {0[2]} = 0\".format(values))\n",
    "\n",
    "    delta = values[1]**2 - 4*values[0]*values[2]\n",
    "    print(\"Delta wynosi: {}\".format(delta))\n",
    "    if delta < 0:\n",
    "        print(\"Delta mniejsza od zera, równanie nie ma pierwiastków rzeczywistych\")\n",
    "    elif delta == 0:\n",
    "        x = -values[1]/(2*values[0])\n",
    "        print(\" x1 = x2 = {}\".format(x))\n",
    "    else:\n",
    "        x1 = (-values[1]-math.sqrt(delta))/(2*values[0])\n",
    "        x2 = (-values[1]+math.sqrt(delta))/(2*values[0])\n",
    "        print(\"x1 = {} \\t x2 = {}\".format(x1, x2))\n"
   ]
  },
  {
   "cell_type": "markdown",
   "metadata": {},
   "source": [
    "## Zadanie 3: Za dużo, za mało\n",
    "Napisz grę, w której program losuje liczbę z zakresu <1,100>, a użytkownik musi ją odgadnąć. Jeśli użytkownik wpisze za dużą liczbę, program powinien podpowiedzieć, że jest zbyt duża. Jeśli zbyt małą - analogicznie. Podpowiedzi powinny naprowadzać użytkownika dopóki nie odgadnie właściwej liczby."
   ]
  },
  {
   "cell_type": "code",
   "execution_count": 5,
   "metadata": {},
   "outputs": [
    {
     "name": "stdout",
     "output_type": "stream",
     "text": [
      "Zgadnij liczbę od 1 do 100: 50\n",
      "Szukana liczba jest mniejsza od: 50\n",
      "Zgadnij jeszcze raz: 25\n",
      "Szukana liczba jest mniejsza od: 25\n",
      "Zgadnij jeszcze raz: 12\n",
      "Szukana liczba jest większa od: 12\n",
      "Zgadnij jeszcze raz: 18\n",
      "Szukana liczba jest mniejsza od: 18\n",
      "Zgadnij jeszcze raz: 16\n",
      "Szukana liczba jest mniejsza od: 16\n",
      "Zgadnij jeszcze raz: 15\n",
      "Szukana liczba jest mniejsza od: 15\n",
      "Zgadnij jeszcze raz: 13\n",
      "Szukana liczba jest większa od: 13\n",
      "Zgadnij jeszcze raz: 14\n",
      "Brawo! Szukana liczba to: 14\n"
     ]
    }
   ],
   "source": [
    "import random\n",
    "\n",
    "a = random.randint(1,100)\n",
    "b = int(input(\"Zgadnij liczbę od 1 do 100: \"))\n",
    "while b != a:\n",
    "    if b < a:\n",
    "        print(\"Szukana liczba jest większa od: {}\".format(b))\n",
    "    else:\n",
    "        print(\"Szukana liczba jest mniejsza od: {}\".format(b))\n",
    "    b = int(input(\"Zgadnij jeszcze raz: \"))\n",
    "print(\"Brawo! Szukana liczba to: {}\".format(b))"
   ]
  },
  {
   "cell_type": "markdown",
   "metadata": {},
   "source": [
    "## Zadanie 4: Loginy\n",
    "Jesteś administratorem na Katedrze Informatyki AGH i właśnie dostałeś/aś listę nowych studentów. Musisz założyć im konta pocztowe, ale oczywiście nie masz czasu na ręczne generowanie loginów. Dlatego będzie Ci potrzebny program, który dla zadanego imienia i nazwiska studenta wypisze proponowany adres mailowy.\n",
    "\n",
    "Na prawidłowy adres mailowy składają się kolejno:\n",
    "\n",
    "pierwsze 3 litery imienia\n",
    "pierwsze 2 litery nazwiska\n",
    "adres domenowy @student.agh.edu.pl"
   ]
  },
  {
   "cell_type": "code",
   "execution_count": 11,
   "metadata": {},
   "outputs": [],
   "source": [
    "studentNames = [\"Budynek Piotr\", \"Chalupa Krystyna\", \"Wiezowiec Jan\", \"Szkieletor Andrzej\", \"Domek Marianna\"]"
   ]
  },
  {
   "cell_type": "code",
   "execution_count": 12,
   "metadata": {},
   "outputs": [
    {
     "name": "stdout",
     "output_type": "stream",
     "text": [
      "Budynek Piotr \n",
      "piobud@student.agh.edu.pl\n",
      "Chalupa Krystyna \n",
      "krycha@student.agh.edu.pl\n",
      "Wiezowiec Jan \n",
      "janwie@student.agh.edu.pl\n",
      "Szkieletor Andrzej \n",
      "andszk@student.agh.edu.pl\n",
      "Domek Marianna \n",
      "mardom@student.agh.edu.pl\n"
     ]
    }
   ],
   "source": [
    "mails = []\n",
    "for student in studentNames:\n",
    "    surname, name = student.lower().split()\n",
    "    login = name[0:3] + surname[0:3]\n",
    "    mail = login + \"@student.agh.edu.pl\"\n",
    "    mails.append(mail)\n",
    "    print(\"{} \\n{}\".format(student, mail))"
   ]
  },
  {
   "cell_type": "markdown",
   "metadata": {},
   "source": [
    "## Zadanie 5: Słownik frekwencyjny\n",
    "Dla załączonego pliku slowacki_hymn.txt wykonaj poniższe polecenia:\n",
    "\n",
    "Napisz program, który wczyta plik, a następnie zliczy częstotliwość występowania każdego ze znaków w tekście. Na koniec program powinien wypisać wszystkie znaki wraz z ich liczbami występowania, w kolejności od najczęstszych do najrzadszych.\n",
    "Zamiast zliczać znaki spróbuj policzyć częstotliwości całych słów. Pamiętaj by pozbyć się z tekstu znaków takich jak: ,;.!?."
   ]
  },
  {
   "cell_type": "code",
   "execution_count": 111,
   "metadata": {},
   "outputs": [
    {
     "name": "stdout",
     "output_type": "stream",
     "text": [
      "{'mi': 11, 'boże': 9, 'smutno': 9, 'w': 8, 'na': 6, 'nie': 5, 'się': 5, 'że': 5, 'co': 4, 'żem': 4, 'i': 3, 'mnie': 3, 'przed': 3, 'sto': 3, 'tak': 3, 'wiem': 3, 'blasków': 2, 'choć': 2, 'dla': 2, 'ja': 2, 'jak': 2, 'jako': 2, 'kraju': 2, 'ludzi': 2, 'mil': 2, 'po': 2, 'ty': 2, 'tęczę': 2, 'więc': 2, 'z': 2, 'znał': 2, 'a': 1, 'ale': 1, 'alem': 1, 'anieli': 1, 'białe': 1, 'blaskach': 1, 'bliski': 1, 'bociany': 1, 'brzegiem': 1, 'brzegu': 1, 'był': 1, 'będziesz': 1, 'będą': 1, 'będę': 1, 'błyski': 1, 'błyśnie': 1, 'błękitu': 1, 'ciszę': 1, 'czołom': 1, 'często': 1, 'człowiek': 1, 'do': 1, 'domu': 1, 'dosytu': 1, 'drodze': 1, 'dumał': 1, 'dziecina': 1, 'dziecinie': 1, 'dziecka': 1, 'dzień': 1, 'dzisiaj': 1, 'długim': 1, 'fali': 1, 'gasisz': 1, 'gdzie': 1, 'gdzieś': 1, 'gromu': 1, 'gwiazdę': 1, 'głową': 1, 'głąb': 1, 'hymn': 1, 'je': 1, 'jednakową': 1, 'jest': 1, 'jutro': 1, 'kazano': 1, 'kiedyś': 1, 'kolumnowym': 1, 'kości': 1, 'którą': 1, 'kłosy': 1, 'lat': 1, 'lazurowej': 1, 'lotne': 1, 'ludzie': 1, 'mam': 1, 'marli': 1, 'matki': 1, 'mała': 1, 'mieć': 1, 'mną': 1, 'modlitwa': 1, 'modlić': 1, 'mogił': 1, 'mogiłą': 1, 'mogiłę': 1, 'moje': 1, 'moją': 1, 'morze': 1, 'morzu': 1, 'może': 1, 'mój': 1, 'nad': 1, 'nic': 1, 'nicością': 1, 'niebie': 1, 'niebo': 1, 'niespokojne': 1, 'niewinnej': 1, 'nim': 1, 'nowe': 1, 'nowi': 1, 'obcych': 1, 'obłąkany': 1, 'od': 1, 'oddane': 1, 'odejście': 1, 'ognistą': 1, 'ogromnie': 1, 'okręt': 1, 'ostatnie': 1, 'otworzę': 1, 'patrząc': 1, 'patrzący': 1, 'pielgrzym': 1, 'podniesioną': 1, 'polskim': 1, 'popiołom': 1, 'powietrzu': 1, 'położę': 1, 'prawie': 1, 'promienistą': 1, 'przecie': 1, 'przede': 1, 'przy': 1, 'próżen': 1, 'puste': 1, 'płaczu': 1, 'płynie': 1, 'płynąc': 1, 'rodzinnego': 1, 'rozkoszy': 1, 'rozlałeś': 1, 'rozpostarli': 1, 'rzuca': 1, 'serca': 1, 'stoję': 1, 'straż': 1, 'szeregiem': 1, 'słońce': 1, 'tobą': 1, 'trudzi': 1, 'twarz': 1, 'twoi': 1, 'ugorze': 1, 'ukorzę': 1, 'widział': 1, 'widziałem': 1, 'wielkim': 1, 'wodzie': 1, 'za': 1, 'zachodzie': 1, 'zazdrości': 1, 'zorze': 1, 'złocisz': 1, 'łoże': 1, 'świecie': 1, 'żali': 1}\n"
     ]
    }
   ],
   "source": [
    "import re\n",
    "f = open('slowacki_hymn.txt', encoding=\"utf-8\")\n",
    "words = []\n",
    "words_count = {}\n",
    "for line in f:\n",
    "    words = re.sub('[,.…!@#$–]', '', line).lower().split()\n",
    "    for word in words:\n",
    "        if word in words_count:\n",
    "            words_count[word] = words_count[word] + 1\n",
    "        else:\n",
    "            words_count[word] = 1\n",
    "ordered = dict(sorted(words_count.items(), key=lambda x: (-x[1], x[0])))\n",
    "print(ordered)\n",
    "f.close()"
   ]
  },
  {
   "cell_type": "markdown",
   "metadata": {},
   "source": [
    "## Zadanie 6: Urodziny\n",
    "Sprawdź, jakie jest prawdopodobieństwo, że w grupie 40 osób 2 osoby urodziły się tego samego dnia roku. Następnie pokaż, w jaki sposób zmienia się to prawdopodobieństwo wraz ze wzrostem liczby osób (wypisując wyniki dla kolejnych grup od 2 do 40 osób).\n",
    "\n",
    "Wskazówka: Wyznaczając prawdopodobieństwo można wykonać symulację dla reprezentatywnie dużej liczby przypadków, np. powtarzając losowanie grupy osób 10000 razy."
   ]
  },
  {
   "cell_type": "code",
   "execution_count": 11,
   "metadata": {},
   "outputs": [
    {
     "name": "stdout",
     "output_type": "stream",
     "text": [
      "Prawdopodobieństwo: 0.5063\n"
     ]
    }
   ],
   "source": [
    "import random\n",
    "population = 23\n",
    "repeats = 10000\n",
    "successes = 0\n",
    "for i in range(0, repeats):\n",
    "    dates = []\n",
    "    for j in range(0, population):\n",
    "        dates.append(random.randint(1,365))\n",
    "    unique = set(dates)\n",
    "    if len(unique) < len(dates):\n",
    "        successes = successes + 1\n",
    "p = successes / repeats\n",
    "print(\"Prawdopodobieństwo: {}\".format(p))"
   ]
  },
  {
   "cell_type": "markdown",
   "metadata": {},
   "source": [
    "## Zadanie 7: Liczby doskonałe\n",
    "Napisz program, który znajdzie i wypisze wszystkie liczby doskonałe z zakresu <2,100000).\n",
    "\n",
    "Wskazówka: liczba doskonała to taka, której wartość jest równa sumie jej dzielników właściwych (mniejszych od niej samej).\n",
    "\n",
    "Przygotuj 2 warianty programu - naiwny, w którym sprawdzane będą wszystkie podzielniki właściwe danej liczby oraz zoptymalizowany, w którym sprwadzanie kończy się na pierwiastku kwadratowym z sprawdzanej liczby. Porównaj czasy wykonania programów.\n",
    "(*) Rozszerz program tak by w podanym zakresie znajdował wszystkie liczby zaprzyjaźnione."
   ]
  },
  {
   "cell_type": "markdown",
   "metadata": {},
   "source": [
    "#### wersja naiwna"
   ]
  },
  {
   "cell_type": "code",
   "execution_count": 1,
   "metadata": {},
   "outputs": [
    {
     "name": "stdout",
     "output_type": "stream",
     "text": [
      "[6, 28, 496, 8128]\n",
      "time:  4.1740264892578125\n"
     ]
    }
   ],
   "source": [
    "import time\n",
    "start = time.time()\n",
    "n = range(2, 10000)\n",
    "perfect_numbers = []\n",
    "for i in n:\n",
    "    sum = 0\n",
    "    for j in range(1, i):\n",
    "        if i % j == 0:\n",
    "            sum = sum + j\n",
    "    if sum == i:\n",
    "        perfect_numbers.append(i)\n",
    "print(perfect_numbers)\n",
    "print('time: ', time.time() - start)"
   ]
  },
  {
   "cell_type": "markdown",
   "metadata": {},
   "source": [
    "#### wersja zoptymalizowana"
   ]
  },
  {
   "cell_type": "code",
   "execution_count": 54,
   "metadata": {},
   "outputs": [
    {
     "name": "stdout",
     "output_type": "stream",
     "text": [
      "[6, 28, 496, 8128]\n",
      "0.22800087928771973\n"
     ]
    }
   ],
   "source": [
    "import time\n",
    "start = time.time()\n",
    "n = range(2, 10000)\n",
    "perfect_numbers = []\n",
    "for i in n:\n",
    "    sum = 0\n",
    "    m = int(i**(1/2))\n",
    "    for j in range(1, m + 1):\n",
    "        if i % j == 0:\n",
    "            sum = sum + j + i//j\n",
    "    if sum == 2*i:\n",
    "        perfect_numbers.append(i)\n",
    "print(perfect_numbers)\n",
    "print(time.time() - start)"
   ]
  },
  {
   "cell_type": "markdown",
   "metadata": {},
   "source": [
    "#### szukanie liczb zaprzyjaźnionych"
   ]
  },
  {
   "cell_type": "code",
   "execution_count": 91,
   "metadata": {},
   "outputs": [
    {
     "name": "stdout",
     "output_type": "stream",
     "text": [
      "Liczby doskonałe: \n",
      " [6, 28, 496, 8128]\n",
      "Liczby zaprzyjaźnione: \n",
      " {220: 284, 284: 220, 1184: 1210, 1210: 1184, 2620: 2924, 2924: 2620, 5020: 5564, 5564: 5020, 6232: 6368, 6368: 6232}\n"
     ]
    }
   ],
   "source": [
    "n = range(2, 10000)\n",
    "sums = {}\n",
    "perfect_numbers = []\n",
    "friendly_numbers = {}\n",
    "for i in n:\n",
    "    sum = 0\n",
    "    m = int(i**(1/2))\n",
    "    for j in range(1, m + 1):\n",
    "        if i % j == 0:\n",
    "            sum = sum + j + i//j\n",
    "    if sum == 2*i:\n",
    "        perfect_numbers.append(i)\n",
    "    else:\n",
    "        sums[i] = sum - i\n",
    "print(\"Liczby doskonałe: \\n\", perfect_numbers)\n",
    "for key, value in sums.items():\n",
    "    if key == sums.get(value):\n",
    "        friendly_numbers[key] = value\n",
    "print(\"Liczby zaprzyjaźnione: \\n\", friendly_numbers)"
   ]
  },
  {
   "cell_type": "markdown",
   "metadata": {},
   "source": [
    "## Zadanie 8: Mastermind\n",
    "Zrealizuj w Pythonie grę Mastermind. Użytkownik będzie w tej grze Odgadującym, a program Kodującym (generującym losowy kod). Zamiast kolorów możemy użyć liczb z zakresu <1,6>."
   ]
  },
  {
   "cell_type": "code",
   "execution_count": 1,
   "metadata": {},
   "outputs": [
    {
     "name": "stdout",
     "output_type": "stream",
     "text": [
      "o - liczba na złej pozycji, x - prawidłowa liczba\n",
      "\n",
      " runda 1\n",
      "Zgadnij kod:\t1234\n",
      "1234\n",
      "o  o\n",
      " runda 2\n",
      "Zgadnij kod:\t4561\n",
      "4561\n",
      "x  x\n",
      " runda 3\n",
      "Zgadnij kod:\t4411\n",
      "4411\n",
      "xxox\n",
      " runda 4\n",
      "Zgadnij kod:\t4441\n",
      "4441\n",
      "xxxx\n",
      " Złamałeś kod!\n",
      "\n",
      " Kod to 4441\n"
     ]
    }
   ],
   "source": [
    "import random\n",
    "rounds = 4\n",
    "code = [str(random.randint(1, 6)) for i in range(0, 4)]\n",
    "print(\"o - liczba na złej pozycji, x - prawidłowa liczba\")\n",
    "for i in range(0, rounds):\n",
    "    print(\"\\n runda {}\".format(i + 1))\n",
    "    guess = input(\"Zgadnij kod:\\t\")\n",
    "    guess = guess[:4]\n",
    "    print(guess)\n",
    "    s=0\n",
    "    for j, k in zip(guess, code):\n",
    "        if j == k:\n",
    "            print(\"x\", end=\"\")\n",
    "            s = s + 1\n",
    "        elif j in code:\n",
    "            print(\"o\", end=\"\")\n",
    "        else:\n",
    "            print(\" \", end=\"\")\n",
    "    if s == 4:\n",
    "        print(\"\\n Złamałeś kod!\")\n",
    "        break\n",
    "print(\"\\n Kod to {}\".format(\"\".join(code)))"
   ]
  }
 ],
 "metadata": {
  "kernelspec": {
   "display_name": "Python 3",
   "language": "python",
   "name": "python3"
  },
  "language_info": {
   "codemirror_mode": {
    "name": "ipython",
    "version": 3
   },
   "file_extension": ".py",
   "mimetype": "text/x-python",
   "name": "python",
   "nbconvert_exporter": "python",
   "pygments_lexer": "ipython3",
   "version": "3.7.0"
  }
 },
 "nbformat": 4,
 "nbformat_minor": 2
}
