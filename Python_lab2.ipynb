{
 "cells": [
  {
   "cell_type": "markdown",
   "metadata": {},
   "source": [
    "## Python lab 2"
   ]
  },
  {
   "cell_type": "markdown",
   "metadata": {},
   "source": [
    "### Mastermind"
   ]
  },
  {
   "cell_type": "code",
   "execution_count": 1,
   "metadata": {},
   "outputs": [],
   "source": [
    "import random\n",
    "\n",
    "def generate(lenght = 4):\n",
    "    code = [str(random.randint(1, 6)) for i in range(0, lenght)]\n",
    "    return \"\".join(code)"
   ]
  },
  {
   "cell_type": "code",
   "execution_count": 2,
   "metadata": {},
   "outputs": [],
   "source": [
    "def check_points(code, guess):\n",
    "    position = 0\n",
    "    number = 0\n",
    "    for i, j in zip (code, guess):\n",
    "        if i == j:\n",
    "            position = position + 1\n",
    "    for i in guess:\n",
    "        if i in code:\n",
    "            number = number + 1\n",
    "    number = number - position\n",
    "    return [position, number]"
   ]
  },
  {
   "cell_type": "code",
   "execution_count": 3,
   "metadata": {},
   "outputs": [],
   "source": [
    "def get_guess(lenght = 4):\n",
    "    flag = True\n",
    "    while flag:\n",
    "        guess = input(\"Podaj kod: \")\n",
    "        flag = False\n",
    "        if (len(guess) == lenght):           \n",
    "            for i in guess:\n",
    "                if i not in \"123456\":\n",
    "                    flag = True \n",
    "                    print(\"Niepoprawne dane!\")\n",
    "                    break\n",
    "        else:\n",
    "            print(\"Niepoprawne dane!\")\n",
    "            flag = True\n",
    "    return guess"
   ]
  },
  {
   "cell_type": "code",
   "execution_count": 4,
   "metadata": {},
   "outputs": [
    {
     "name": "stdout",
     "output_type": "stream",
     "text": [
      "Round:  1\n",
      "Podaj kod: 1234\n",
      "[positions, numbers] =  [0, 1]\n",
      "Round:  2\n",
      "Podaj kod: 5612\n",
      "[positions, numbers] =  [0, 2]\n",
      "Round:  3\n",
      "Podaj kod: 3456\n",
      "[positions, numbers] =  [2, 1]\n",
      "Round:  4\n",
      "Podaj kod: 3566\n",
      "[positions, numbers] =  [4, 0]\n",
      "Congratulations!\n"
     ]
    }
   ],
   "source": [
    "points = 0\n",
    "code = generate()\n",
    "round = 0\n",
    "while points !=4 and round < 10:\n",
    "    round = round + 1\n",
    "    print(\"Round: \", round)\n",
    "    guess = get_guess()\n",
    "    p = check_points(code, guess)\n",
    "    print(\"[positions, numbers] = \", p)\n",
    "    points = p[0]\n",
    "if points == 4:\n",
    "    print(\"Congratulations!\")\n",
    "else:\n",
    "    print(\"Try next time. Code was: \", code)"
   ]
  },
  {
   "cell_type": "code",
   "execution_count": null,
   "metadata": {},
   "outputs": [],
   "source": []
  }
 ],
 "metadata": {
  "kernelspec": {
   "display_name": "Python 3",
   "language": "python",
   "name": "python3"
  },
  "language_info": {
   "codemirror_mode": {
    "name": "ipython",
    "version": 3
   },
   "file_extension": ".py",
   "mimetype": "text/x-python",
   "name": "python",
   "nbconvert_exporter": "python",
   "pygments_lexer": "ipython3",
   "version": "3.7.0"
  }
 },
 "nbformat": 4,
 "nbformat_minor": 2
}
